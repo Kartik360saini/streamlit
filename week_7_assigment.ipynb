{
 "cells": [
  {
   "cell_type": "code",
   "execution_count": 6,
   "id": "7355b451-df88-4ba5-9698-06bf953328c8",
   "metadata": {},
   "outputs": [],
   "source": [
    "import streamlit as st\n",
    "import pandas as pd\n",
    "import numpy as np\n",
    "from sklearn.model_selection import train_test_split\n",
    "from sklearn.linear_model import LinearRegression\n",
    "from sklearn.metrics import mean_squared_error, r2_score\n",
    "import plotly.express as px"
   ]
  },
  {
   "cell_type": "code",
   "execution_count": 12,
   "id": "cfad4d44-0edc-42c2-b936-58cfcb906ff6",
   "metadata": {},
   "outputs": [],
   "source": [
    "def generate_house_data(n_samples=100):\n",
    "    np.random.seed(42)\n",
    "    size = np.random.normal(1500, 500, n_samples)\n",
    "    price = size * 100 + np.random.normal(0, 10000, n_samples)\n",
    "    return pd.DataFrame({'size_sqft': size, 'price': price})"
   ]
  },
  {
   "cell_type": "code",
   "execution_count": 21,
   "id": "a0bcbf7f-7281-4cc8-9a14-8ff153841bb3",
   "metadata": {},
   "outputs": [],
   "source": [
    "def train_model():\n",
    "    df = generate_house_data()\n",
    "    X = df[['size_sqft']]\n",
    "    y = df['price']\n",
    "    X_train, X_test, y_train, y_test = train_test_split(X, y, test_size=0.2, random_state=42)\n",
    "    model = LinearRegression()\n",
    "    model.fit(X_train, y_train)\n",
    "    return model"
   ]
  },
  {
   "cell_type": "code",
   "execution_count": 22,
   "id": "6db8081e-7a38-472c-970d-0c6c21659585",
   "metadata": {},
   "outputs": [],
   "source": [
    "def main():\n",
    "    st.title('🏠 Simple House Pricing Predictor')\n",
    "    st.write('Introduce the house size to predict its sale price')\n",
    "    model = train_model()\n",
    "    size = st.number_input('House size (square feet)', \n",
    "                          min_value=500, \n",
    "                          max_value=5000, \n",
    "                          value=1500)\n",
    "    if st.button('Predict price'):\n",
    "        prediction = model.predict([[size]])\n",
    "        st.success(f'Estimated price: ${prediction[0]:,.2f}')\n",
    "        df = generate_house_data()\n",
    "        fig = px.scatter(df, x='size_sqft', y='price', \n",
    "                        title='Size vs Price Relationship')\n",
    "        fig.add_scatter(x=[size], y=[prediction[0]], \n",
    "                       mode='markers', \n",
    "                       marker=dict(size=15, color='red'),\n",
    "                       name='Prediction')\n",
    "        st.plotly_chart(fig)"
   ]
  },
  {
   "cell_type": "code",
   "execution_count": 23,
   "id": "d60fabcf-5faf-46fa-8a1e-a20d63196f79",
   "metadata": {},
   "outputs": [
    {
     "name": "stderr",
     "output_type": "stream",
     "text": [
      "2025-07-15 11:13:11.497 WARNING streamlit.runtime.scriptrunner_utils.script_run_context: Thread 'MainThread': missing ScriptRunContext! This warning can be ignored when running in bare mode.\n",
      "2025-07-15 11:13:11.952 \n",
      "  \u001b[33m\u001b[1mWarning:\u001b[0m to view this Streamlit app on a browser, run it with the following\n",
      "  command:\n",
      "\n",
      "    streamlit run C:\\Users\\Kartik chouhan\\AppData\\Local\\Packages\\PythonSoftwareFoundation.Python.3.11_qbz5n2kfra8p0\\LocalCache\\local-packages\\Python311\\site-packages\\ipykernel_launcher.py [ARGUMENTS]\n",
      "2025-07-15 11:13:11.953 Thread 'MainThread': missing ScriptRunContext! This warning can be ignored when running in bare mode.\n",
      "2025-07-15 11:13:11.956 Thread 'MainThread': missing ScriptRunContext! This warning can be ignored when running in bare mode.\n",
      "2025-07-15 11:13:11.958 Thread 'MainThread': missing ScriptRunContext! This warning can be ignored when running in bare mode.\n",
      "2025-07-15 11:13:11.960 Thread 'MainThread': missing ScriptRunContext! This warning can be ignored when running in bare mode.\n",
      "2025-07-15 11:13:11.961 Thread 'MainThread': missing ScriptRunContext! This warning can be ignored when running in bare mode.\n",
      "2025-07-15 11:13:11.972 Thread 'MainThread': missing ScriptRunContext! This warning can be ignored when running in bare mode.\n",
      "2025-07-15 11:13:11.974 Thread 'MainThread': missing ScriptRunContext! This warning can be ignored when running in bare mode.\n",
      "2025-07-15 11:13:11.976 Thread 'MainThread': missing ScriptRunContext! This warning can be ignored when running in bare mode.\n",
      "2025-07-15 11:13:11.978 Thread 'MainThread': missing ScriptRunContext! This warning can be ignored when running in bare mode.\n",
      "2025-07-15 11:13:11.979 Session state does not function when running a script without `streamlit run`\n",
      "2025-07-15 11:13:11.980 Thread 'MainThread': missing ScriptRunContext! This warning can be ignored when running in bare mode.\n",
      "2025-07-15 11:13:11.981 Thread 'MainThread': missing ScriptRunContext! This warning can be ignored when running in bare mode.\n",
      "2025-07-15 11:13:11.981 Thread 'MainThread': missing ScriptRunContext! This warning can be ignored when running in bare mode.\n",
      "2025-07-15 11:13:11.983 Thread 'MainThread': missing ScriptRunContext! This warning can be ignored when running in bare mode.\n",
      "2025-07-15 11:13:11.983 Thread 'MainThread': missing ScriptRunContext! This warning can be ignored when running in bare mode.\n",
      "2025-07-15 11:13:11.984 Thread 'MainThread': missing ScriptRunContext! This warning can be ignored when running in bare mode.\n",
      "2025-07-15 11:13:11.986 Thread 'MainThread': missing ScriptRunContext! This warning can be ignored when running in bare mode.\n",
      "2025-07-15 11:13:11.986 Thread 'MainThread': missing ScriptRunContext! This warning can be ignored when running in bare mode.\n",
      "2025-07-15 11:13:11.986 Thread 'MainThread': missing ScriptRunContext! This warning can be ignored when running in bare mode.\n"
     ]
    }
   ],
   "source": [
    "if __name__ == '__main__':\n",
    "    main()"
   ]
  },
  {
   "cell_type": "code",
   "execution_count": null,
   "id": "598bd78d-5701-427b-9f9e-e9ada7714ad6",
   "metadata": {},
   "outputs": [],
   "source": []
  }
 ],
 "metadata": {
  "kernelspec": {
   "display_name": "Python 3 (ipykernel)",
   "language": "python",
   "name": "python3"
  },
  "language_info": {
   "codemirror_mode": {
    "name": "ipython",
    "version": 3
   },
   "file_extension": ".py",
   "mimetype": "text/x-python",
   "name": "python",
   "nbconvert_exporter": "python",
   "pygments_lexer": "ipython3",
   "version": "3.11.9"
  }
 },
 "nbformat": 4,
 "nbformat_minor": 5
}
